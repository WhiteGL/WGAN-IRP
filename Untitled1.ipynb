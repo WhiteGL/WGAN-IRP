{
 "cells": [
  {
   "cell_type": "code",
   "execution_count": 1,
   "metadata": {},
   "outputs": [],
   "source": [
    "from metrics.visualization_metrics import PCA_Analysis, tSNE_Analysis\n",
    "from utils.recurrence import intertemporal_recurrence_matrix, de_irp"
   ]
  },
  {
   "cell_type": "code",
   "execution_count": 2,
   "metadata": {},
   "outputs": [],
   "source": [
    "import numpy as np\n",
    "import pandas as pd\n",
    "import torch"
   ]
  },
  {
   "cell_type": "code",
   "execution_count": 3,
   "metadata": {},
   "outputs": [],
   "source": [
    "data = pd.read_csv('./data/GOOG_BIG.csv')\n",
    "data = data.filter(['Open'], axis=1)\n",
    "data.rename(columns={'Open':'Value'}, inplace=True)\n",
    "value = data.Value\n",
    "time_window = 28\n",
    "arr = np.asarray([value[i:i + time_window] for i in range(len(data) - time_window)], dtype=np.float32)\n",
    "def normalize(x):\n",
    "    \"\"\"Normalize input in [0,1] range, saving statics for denormalization\"\"\"\n",
    "    max = x.max()\n",
    "    min = x.min()\n",
    "    return (x - min) / (max - min) + 1e-5"
   ]
  },
  {
   "cell_type": "code",
   "execution_count": 4,
   "metadata": {},
   "outputs": [],
   "source": [
    "def de_irp(data, init_value):\n",
    "    \"\"\"\n",
    "    reconstruct the origin data from IRP value with a init value\n",
    "    :param data:\n",
    "    :param init_value:\n",
    "    :return:\n",
    "    \"\"\"\n",
    "    seq_length = data.shape[0]\n",
    "    res = np.zeros(seq_length)\n",
    "    res[0] = init_value\n",
    "    for i in range(1, seq_length):\n",
    "        res[i] = init_value / (np.exp(data[0][i]))\n",
    "\n",
    "    return res"
   ]
  },
  {
   "cell_type": "code",
   "execution_count": 8,
   "metadata": {},
   "outputs": [],
   "source": [
    "res = np.zeros((data.shape[0], 28))\n",
    "for i in range(data.shape[0]):\n",
    "    item = data_irp[i]\n",
    "    item = de_irp(item[0], 100)\n",
    "    res[i] = item"
   ]
  },
  {
   "cell_type": "code",
   "execution_count": null,
   "metadata": {},
   "outputs": [],
   "source": [
    "res"
   ]
  },
  {
   "cell_type": "code",
   "execution_count": 23,
   "metadata": {},
   "outputs": [],
   "source": [
    "data_h = pd.read_csv('./WGANsamples.csv', header=None)"
   ]
  },
  {
   "cell_type": "code",
   "execution_count": 46,
   "metadata": {},
   "outputs": [],
   "source": [
    "data_h = np.array(data_h)"
   ]
  },
  {
   "cell_type": "code",
   "execution_count": null,
   "metadata": {},
   "outputs": [],
   "source": [
    "length_h = data_h.shape[0]\n",
    "data_hirp = torch.empty(length_h, 1, time_window, time_window)\n",
    "for i in range(length_h):\n",
    "    matrix = torch.from_numpy(intertemporal_recurrence_matrix(data_h[i]))\n",
    "    data_hirp[i] = matrix.view((1, time_window, time_window))"
   ]
  },
  {
   "cell_type": "code",
   "execution_count": 61,
   "metadata": {},
   "outputs": [],
   "source": [
    "res = [res]\n",
    "data_h = [data_h]"
   ]
  },
  {
   "cell_type": "code",
   "execution_count": 63,
   "metadata": {},
   "outputs": [
    {
     "data": {
      "text/plain": [
       "((3657, 28), 1)"
      ]
     },
     "execution_count": 63,
     "metadata": {},
     "output_type": "execute_result"
    }
   ],
   "source": [
    "dataX = []\n",
    "for i in range(199):\n",
    "    j = np.random.randint(0, )"
   ]
  },
  {
   "cell_type": "code",
   "execution_count": 66,
   "metadata": {},
   "outputs": [],
   "source": [
    "X = res[0]\n",
    "X_hat = data_h[0]"
   ]
  },
  {
   "cell_type": "code",
   "execution_count": 6,
   "metadata": {},
   "outputs": [
    {
     "data": {
      "text/plain": [
       "(3657, 28)"
      ]
     },
     "execution_count": 6,
     "metadata": {},
     "output_type": "execute_result"
    }
   ],
   "source": [
    "res.shape"
   ]
  },
  {
   "cell_type": "code",
   "execution_count": 9,
   "metadata": {},
   "outputs": [
    {
     "data": {
      "text/plain": [
       "array([[100.        ,  45.24537659,   7.20432329, ...,   3.83286762,\n",
       "          4.09221983,   3.77053022],\n",
       "       [100.        ,  15.9227829 ,  15.27661991, ...,   9.04450321,\n",
       "          8.33351421,   6.69917011],\n",
       "       [100.        ,  95.94190216, 199.92079163, ...,  52.33705139,\n",
       "         42.07286453,  37.69234848],\n",
       "       ...,\n",
       "       [100.        ,  99.8865509 ,  99.47741699, ...,  92.18451691,\n",
       "         91.2166748 ,  91.33812714],\n",
       "       [100.        ,  99.5904007 ,  98.3312149 , ...,  91.32028198,\n",
       "         91.44186401,  90.73196411],\n",
       "       [100.        ,  98.73563385,  96.74874115, ...,  91.81794739,\n",
       "         91.10513306,  91.663414  ]])"
      ]
     },
     "execution_count": 9,
     "metadata": {},
     "output_type": "execute_result"
    }
   ],
   "source": [
    "res"
   ]
  },
  {
   "cell_type": "code",
   "execution_count": 5,
   "metadata": {},
   "outputs": [],
   "source": [
    "data1 = [normalize(item) for item in arr]"
   ]
  },
  {
   "cell_type": "code",
   "execution_count": 18,
   "metadata": {},
   "outputs": [
    {
     "data": {
      "text/plain": [
       "3657"
      ]
     },
     "execution_count": 18,
     "metadata": {},
     "output_type": "execute_result"
    }
   ],
   "source": [
    "len(data1)"
   ]
  },
  {
   "cell_type": "code",
   "execution_count": 6,
   "metadata": {},
   "outputs": [
    {
     "ename": "NameError",
     "evalue": "name 'data1_irp' is not defined",
     "output_type": "error",
     "traceback": [
      "\u001b[1;31m---------------------------------------------------------------------------\u001b[0m",
      "\u001b[1;31mNameError\u001b[0m                                 Traceback (most recent call last)",
      "\u001b[1;32m<ipython-input-6-016c7195787c>\u001b[0m in \u001b[0;36m<module>\u001b[1;34m()\u001b[0m\n\u001b[1;32m----> 1\u001b[1;33m \u001b[0mdata1_irp\u001b[0m\u001b[1;33m[\u001b[0m\u001b[1;36m0\u001b[0m\u001b[1;33m]\u001b[0m\u001b[1;33m[\u001b[0m\u001b[1;36m0\u001b[0m\u001b[1;33m]\u001b[0m\u001b[1;33m[\u001b[0m\u001b[1;36m0\u001b[0m\u001b[1;33m]\u001b[0m\u001b[1;33m\u001b[0m\u001b[0m\n\u001b[0m",
      "\u001b[1;31mNameError\u001b[0m: name 'data1_irp' is not defined"
     ]
    }
   ],
   "source": [
    "data1_irp[0][0][0]"
   ]
  },
  {
   "cell_type": "code",
   "execution_count": 8,
   "metadata": {},
   "outputs": [],
   "source": [
    "length = len(data1)\n",
    "data1_irp = torch.empty(length, 1, time_window, time_window)\n",
    "for i in range(length):\n",
    "    matrix1 = torch.from_numpy(intertemporal_recurrence_matrix(data1[i]))\n",
    "    data1_irp[i] = matrix1.view((1, time_window, time_window))"
   ]
  },
  {
   "cell_type": "code",
   "execution_count": 9,
   "metadata": {},
   "outputs": [],
   "source": [
    "res1 = np.zeros((data1_irp.shape[0], 28))\n",
    "for i in range(data1_irp.shape[0]):\n",
    "    item = data1_irp[i]\n",
    "    item = de_irp(item[0], 100)\n",
    "    res1[i] = item"
   ]
  },
  {
   "cell_type": "code",
   "execution_count": 10,
   "metadata": {},
   "outputs": [
    {
     "data": {
      "text/plain": [
       "array([1.00000000e+02, 2.24657394e+02, 1.42680176e+03, 1.48727881e+03,\n",
       "       7.12180115e+02, 7.10946045e+02, 1.09972998e+03, 7.51675659e+02,\n",
       "       3.83874237e+02, 4.33243622e+02, 2.72889193e-02, 2.17252441e+02,\n",
       "       2.24657394e+02, 1.91333786e+02, 4.12260956e+02, 2.97477417e+02,\n",
       "       9.18297485e+02, 1.01950494e+03, 1.40335107e+03, 1.62304541e+03,\n",
       "       1.87976575e+03, 2.19202661e+03, 2.54501831e+03, 2.24756714e+03,\n",
       "       2.42529688e+03, 2.68448657e+03, 2.51416162e+03, 2.72891895e+03])"
      ]
     },
     "execution_count": 10,
     "metadata": {},
     "output_type": "execute_result"
    }
   ],
   "source": [
    "res1[0]"
   ]
  },
  {
   "cell_type": "code",
   "execution_count": 11,
   "metadata": {},
   "outputs": [
    {
     "data": {
      "text/plain": [
       "array([3.6644917e-02, 8.2325511e-02, 5.2285033e-01, 5.4501212e-01,\n",
       "       2.6097780e-01, 2.6052558e-01, 4.0299514e-01, 2.7545089e-01,\n",
       "       1.4067040e-01, 1.5876177e-01, 9.9999997e-06, 7.9611979e-02,\n",
       "       8.2325511e-02, 7.0114106e-02, 1.5107268e-01, 1.0901035e-01,\n",
       "       3.3650932e-01, 3.7359676e-01, 5.1425683e-01, 5.9476358e-01,\n",
       "       6.8883860e-01, 8.0326641e-01, 9.3261981e-01, 8.2361907e-01,\n",
       "       8.8874799e-01, 9.8372781e-01, 9.2131245e-01, 1.0000100e+00],\n",
       "      dtype=float32)"
      ]
     },
     "execution_count": 11,
     "metadata": {},
     "output_type": "execute_result"
    }
   ],
   "source": [
    "data1[0]"
   ]
  },
  {
   "cell_type": "code",
   "execution_count": 12,
   "metadata": {},
   "outputs": [
    {
     "data": {
      "text/plain": [
       "array([49.6769  , 50.178635, 55.017166, 55.260582, 52.140873, 52.135906,\n",
       "       53.70073 , 52.29984 , 50.81947 , 51.018177, 49.274517, 50.14883 ,\n",
       "       50.178635, 50.04451 , 50.933723, 50.47173 , 52.970478, 53.37783 ,\n",
       "       54.92278 , 55.80703 , 56.84031 , 58.097134, 59.517895, 58.32068 ,\n",
       "       59.036026, 60.079243, 59.3937  , 60.25808 ], dtype=float32)"
      ]
     },
     "execution_count": 12,
     "metadata": {},
     "output_type": "execute_result"
    }
   ],
   "source": [
    "arr[0]"
   ]
  },
  {
   "cell_type": "code",
   "execution_count": 15,
   "metadata": {},
   "outputs": [
    {
     "data": {
      "text/plain": [
       "tensor([ 0.0000, -0.8094, -2.6580, -2.6995, -1.9632, -1.9614, -2.3976, -2.0171,\n",
       "        -1.3451, -1.4661,  8.2064, -0.7759, -0.8094, -0.6488, -1.4165, -1.0902,\n",
       "        -2.2174, -2.3219, -2.6414, -2.7869, -2.9337, -3.0874, -3.2367, -3.1124,\n",
       "        -3.1885, -3.2901, -3.2245, -3.3065])"
      ]
     },
     "execution_count": 15,
     "metadata": {},
     "output_type": "execute_result"
    }
   ],
   "source": [
    "data1_irp[0,0,0]"
   ]
  },
  {
   "cell_type": "code",
   "execution_count": null,
   "metadata": {},
   "outputs": [],
   "source": []
  }
 ],
 "metadata": {
  "kernelspec": {
   "display_name": "Python 3",
   "language": "python",
   "name": "python3"
  },
  "language_info": {
   "codemirror_mode": {
    "name": "ipython",
    "version": 3
   },
   "file_extension": ".py",
   "mimetype": "text/x-python",
   "name": "python",
   "nbconvert_exporter": "python",
   "pygments_lexer": "ipython3",
   "version": "3.6.5"
  }
 },
 "nbformat": 4,
 "nbformat_minor": 2
}
