{
 "cells": [
  {
   "cell_type": "code",
   "execution_count": 1,
   "metadata": {},
   "outputs": [
    {
     "name": "stdout",
     "output_type": "stream",
     "text": [
      "got dataloader\n",
      "---------- Networks architecture -------------\n",
      "generator(\n",
      "  (fc): Sequential(\n",
      "    (0): Linear(in_features=62, out_features=1024, bias=True)\n",
      "    (1): BatchNorm1d(1024, eps=1e-05, momentum=0.1, affine=True, track_running_stats=True)\n",
      "    (2): ReLU()\n",
      "    (3): Linear(in_features=1024, out_features=6272, bias=True)\n",
      "    (4): BatchNorm1d(6272, eps=1e-05, momentum=0.1, affine=True, track_running_stats=True)\n",
      "    (5): ReLU()\n",
      "  )\n",
      "  (deconv): Sequential(\n",
      "    (0): ConvTranspose2d(128, 64, kernel_size=(4, 4), stride=(2, 2), padding=(1, 1))\n",
      "    (1): BatchNorm2d(64, eps=1e-05, momentum=0.1, affine=True, track_running_stats=True)\n",
      "    (2): ReLU()\n",
      "    (3): ConvTranspose2d(64, 1, kernel_size=(4, 4), stride=(2, 2), padding=(1, 1))\n",
      "    (4): Tanh()\n",
      "  )\n",
      ")\n",
      "Total number of parameters: 6640193\n",
      "discriminator(\n",
      "  (conv): Sequential(\n",
      "    (0): Conv2d(1, 64, kernel_size=(4, 4), stride=(2, 2), padding=(1, 1))\n",
      "    (1): LeakyReLU(negative_slope=0.2)\n",
      "    (2): Conv2d(64, 128, kernel_size=(4, 4), stride=(2, 2), padding=(1, 1))\n",
      "    (3): BatchNorm2d(128, eps=1e-05, momentum=0.1, affine=True, track_running_stats=True)\n",
      "    (4): LeakyReLU(negative_slope=0.2)\n",
      "  )\n",
      "  (fc): Sequential(\n",
      "    (0): Linear(in_features=6272, out_features=1024, bias=True)\n",
      "    (1): BatchNorm1d(1024, eps=1e-05, momentum=0.1, affine=True, track_running_stats=True)\n",
      "    (2): LeakyReLU(negative_slope=0.2)\n",
      "    (3): Linear(in_features=1024, out_features=1, bias=True)\n",
      "  )\n",
      ")\n",
      "Total number of parameters: 6559169\n",
      "-----------------------------------------------\n",
      "training start!!\n",
      "Epoch: [ 1] [ 100/ 457] D_loss: 1.88376558, G_loss: 0.19991577\n",
      "Epoch: [ 1] [ 200/ 457] D_loss: 0.15496016, G_loss: 0.46620721\n",
      "Epoch: [ 1] [ 300/ 457] D_loss: 0.10839640, G_loss: 0.79552108\n",
      "Epoch: [ 1] [ 400/ 457] D_loss: 0.11528164, G_loss: 1.04199219\n",
      "Epoch: [ 2] [ 100/ 457] D_loss: 1.41713166, G_loss: 0.91813278\n",
      "Epoch: [ 2] [ 200/ 457] D_loss: 0.37569055, G_loss: 0.45870602\n",
      "Epoch: [ 2] [ 300/ 457] D_loss: 0.31942347, G_loss: 0.24517643\n",
      "Epoch: [ 2] [ 400/ 457] D_loss: 0.38193604, G_loss: 0.35052162\n",
      "Epoch: [ 3] [ 100/ 457] D_loss: 0.27075768, G_loss: 1.01817143\n",
      "Epoch: [ 3] [ 200/ 457] D_loss: 0.65080655, G_loss: 1.25564599\n",
      "Epoch: [ 3] [ 300/ 457] D_loss: 0.88469076, G_loss: 1.60054398\n",
      "Epoch: [ 3] [ 400/ 457] D_loss: 0.15523216, G_loss: 1.98992252\n",
      "Epoch: [ 4] [ 100/ 457] D_loss: 0.03711405, G_loss: 2.52082634\n",
      "Epoch: [ 4] [ 200/ 457] D_loss: 0.54420209, G_loss: 1.93875444\n",
      "Epoch: [ 4] [ 300/ 457] D_loss: 0.04663217, G_loss: 1.88646460\n",
      "Epoch: [ 4] [ 400/ 457] D_loss: 0.23821899, G_loss: 1.76947498\n",
      "Epoch: [ 5] [ 100/ 457] D_loss: 0.39166003, G_loss: 1.95210481\n",
      "Epoch: [ 5] [ 200/ 457] D_loss: 0.20329762, G_loss: 1.73885357\n",
      "Epoch: [ 5] [ 300/ 457] D_loss: 0.17382503, G_loss: 1.63804352\n",
      "Epoch: [ 5] [ 400/ 457] D_loss: 0.05928904, G_loss: 1.42248249\n",
      "Avg one epoch time: 5.16, total 5 epochs time: 25.82\n",
      "Training finish!... save training results\n",
      " [*] Training finished!\n",
      " [*] Testing finished!\n"
     ]
    },
    {
     "name": "stderr",
     "output_type": "stream",
     "text": [
      "WARNING:root:Lossy conversion from float64 to uint8. Range [-0.6292364001274109, 0.705452024936676]. Convert image to uint8 prior to saving to suppress this warning.\n",
      "WARNING:root:Lossy conversion from float64 to uint8. Range [-0.7154339551925659, 0.7708152532577515]. Convert image to uint8 prior to saving to suppress this warning.\n",
      "WARNING:root:Lossy conversion from float64 to uint8. Range [-0.7601557374000549, 0.7575168013572693]. Convert image to uint8 prior to saving to suppress this warning.\n",
      "WARNING:root:Lossy conversion from float64 to uint8. Range [-0.7633349299430847, 0.8696634769439697]. Convert image to uint8 prior to saving to suppress this warning.\n",
      "WARNING:root:Lossy conversion from float64 to uint8. Range [-0.8339507579803467, 0.8723700046539307]. Convert image to uint8 prior to saving to suppress this warning.\n",
      "WARNING:root:Lossy conversion from float64 to uint8. Range [-0.8339507579803467, 0.8723700046539307]. Convert image to uint8 prior to saving to suppress this warning.\n"
     ]
    }
   ],
   "source": [
    "!python main.py --epoch 5"
   ]
  },
  {
   "cell_type": "code",
   "execution_count": null,
   "metadata": {},
   "outputs": [],
   "source": []
  }
 ],
 "metadata": {
  "kernelspec": {
   "display_name": "Python 3",
   "language": "python",
   "name": "python3"
  },
  "language_info": {
   "codemirror_mode": {
    "name": "ipython",
    "version": 3
   },
   "file_extension": ".py",
   "mimetype": "text/x-python",
   "name": "python",
   "nbconvert_exporter": "python",
   "pygments_lexer": "ipython3",
   "version": "3.6.5"
  }
 },
 "nbformat": 4,
 "nbformat_minor": 2
}
