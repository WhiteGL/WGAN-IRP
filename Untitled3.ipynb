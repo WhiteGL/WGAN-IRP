{
 "cells": [
  {
   "cell_type": "code",
   "execution_count": 1,
   "metadata": {},
   "outputs": [
    {
     "name": "stdout",
     "output_type": "stream",
     "text": [
      "got dataloader\n",
      "---------- Networks architecture -------------\n",
      "generator(\n",
      "  (fc): Sequential(\n",
      "    (0): Linear(in_features=62, out_features=1024, bias=True)\n",
      "    (1): BatchNorm1d(1024, eps=1e-05, momentum=0.1, affine=True, track_running_stats=True)\n",
      "    (2): ReLU()\n",
      "    (3): Linear(in_features=1024, out_features=6272, bias=True)\n",
      "    (4): BatchNorm1d(6272, eps=1e-05, momentum=0.1, affine=True, track_running_stats=True)\n",
      "    (5): ReLU()\n",
      "  )\n",
      "  (deconv): Sequential(\n",
      "    (0): ConvTranspose2d(128, 64, kernel_size=(4, 4), stride=(2, 2), padding=(1, 1))\n",
      "    (1): BatchNorm2d(64, eps=1e-05, momentum=0.1, affine=True, track_running_stats=True)\n",
      "    (2): ReLU()\n",
      "    (3): ConvTranspose2d(64, 1, kernel_size=(4, 4), stride=(2, 2), padding=(1, 1))\n",
      "    (4): Tanh()\n",
      "  )\n",
      ")\n",
      "Total number of parameters: 6640193\n",
      "discriminator(\n",
      "  (conv): Sequential(\n",
      "    (0): Conv2d(1, 64, kernel_size=(4, 4), stride=(2, 2), padding=(1, 1))\n",
      "    (1): LeakyReLU(negative_slope=0.2)\n",
      "    (2): Conv2d(64, 128, kernel_size=(4, 4), stride=(2, 2), padding=(1, 1))\n",
      "    (3): BatchNorm2d(128, eps=1e-05, momentum=0.1, affine=True, track_running_stats=True)\n",
      "    (4): LeakyReLU(negative_slope=0.2)\n",
      "  )\n",
      "  (fc): Sequential(\n",
      "    (0): Linear(in_features=6272, out_features=1024, bias=True)\n",
      "    (1): BatchNorm1d(1024, eps=1e-05, momentum=0.1, affine=True, track_running_stats=True)\n",
      "    (2): LeakyReLU(negative_slope=0.2)\n",
      "    (3): Linear(in_features=1024, out_features=1, bias=True)\n",
      "  )\n",
      ")\n",
      "Total number of parameters: 6559169\n",
      "-----------------------------------------------\n",
      "training start!!\n",
      "Epoch: [ 1] [ 100/ 457] D_loss: 0.10954615, G_loss: 0.32129267\n",
      "Epoch: [ 1] [ 200/ 457] D_loss: 0.09254852, G_loss: 0.72809798\n",
      "Epoch: [ 1] [ 300/ 457] D_loss: 0.06884597, G_loss: 1.04314339\n",
      "Epoch: [ 1] [ 400/ 457] D_loss: 0.42584771, G_loss: 1.02869678\n",
      "Epoch: [ 2] [ 100/ 457] D_loss: 0.27144089, G_loss: 1.04656506\n",
      "Epoch: [ 2] [ 200/ 457] D_loss: 2.45819616, G_loss: 1.24249125\n",
      "Epoch: [ 2] [ 300/ 457] D_loss: 0.43825248, G_loss: 1.33588576\n",
      "Epoch: [ 2] [ 400/ 457] D_loss: 1.70340085, G_loss: 1.17908669\n",
      "Epoch: [ 3] [ 100/ 457] D_loss: 0.32217833, G_loss: 0.71676612\n",
      "Epoch: [ 3] [ 200/ 457] D_loss: 0.76391947, G_loss: 0.51965779\n",
      "Epoch: [ 3] [ 300/ 457] D_loss: 0.43091792, G_loss: 1.15572143\n",
      "Epoch: [ 3] [ 400/ 457] D_loss: 0.83000141, G_loss: 1.75482702\n",
      "Epoch: [ 4] [ 100/ 457] D_loss: 0.48272538, G_loss: 2.08538723\n",
      "Epoch: [ 4] [ 200/ 457] D_loss: 0.70534801, G_loss: 2.26377296\n",
      "Epoch: [ 4] [ 300/ 457] D_loss: 0.44231510, G_loss: 2.08407688\n",
      "Epoch: [ 4] [ 400/ 457] D_loss: 1.08265471, G_loss: 1.85467458\n",
      "Epoch: [ 5] [ 100/ 457] D_loss: 0.93134147, G_loss: 2.31046247\n",
      "Epoch: [ 5] [ 200/ 457] D_loss: 0.85131651, G_loss: 2.16575527\n",
      "Epoch: [ 5] [ 300/ 457] D_loss: 0.57253420, G_loss: 2.61634207\n",
      "Epoch: [ 5] [ 400/ 457] D_loss: 0.28894109, G_loss: 2.84113646\n",
      "Avg one epoch time: 8.40, total 5 epochs time: 42.02\n",
      "Training finish!... save training results\n",
      " [*] Training finished!\n",
      " [*] Testing finished!\n"
     ]
    },
    {
     "name": "stderr",
     "output_type": "stream",
     "text": [
      "Lossy conversion from float64 to uint8. Range [-0.7642523050308228, 0.6057829260826111]. Convert image to uint8 prior to saving to suppress this warning.\n",
      "Lossy conversion from float64 to uint8. Range [-0.7808808088302612, 0.6052590608596802]. Convert image to uint8 prior to saving to suppress this warning.\n",
      "Lossy conversion from float64 to uint8. Range [-0.7469383478164673, 0.6863094568252563]. Convert image to uint8 prior to saving to suppress this warning.\n",
      "Lossy conversion from float64 to uint8. Range [-0.8516508340835571, 0.8077985644340515]. Convert image to uint8 prior to saving to suppress this warning.\n",
      "Lossy conversion from float64 to uint8. Range [-0.8568222522735596, 0.8333878517150879]. Convert image to uint8 prior to saving to suppress this warning.\n",
      "Lossy conversion from float64 to uint8. Range [-0.8568222522735596, 0.8333878517150879]. Convert image to uint8 prior to saving to suppress this warning.\n"
     ]
    }
   ],
   "source": [
    "!python main.py --epoch 5"
   ]
  },
  {
   "cell_type": "code",
   "execution_count": null,
   "metadata": {},
   "outputs": [],
   "source": []
  }
 ],
 "metadata": {
  "kernelspec": {
   "display_name": "Python 3",
   "language": "python",
   "name": "python3"
  },
  "language_info": {
   "codemirror_mode": {
    "name": "ipython",
    "version": 3
   },
   "file_extension": ".py",
   "mimetype": "text/x-python",
   "name": "python",
   "nbconvert_exporter": "python",
   "pygments_lexer": "ipython3",
   "version": "3.7.3"
  }
 },
 "nbformat": 4,
 "nbformat_minor": 2
}
